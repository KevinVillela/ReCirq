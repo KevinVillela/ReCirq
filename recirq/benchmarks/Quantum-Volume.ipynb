{
 "cells": [
  {
   "cell_type": "markdown",
   "metadata": {},
   "source": [
    "# Running the Quantum Volume Algorithm\n",
    "This example runs the quantum volume algorithm of https://arxiv.org/pdf/1811.12926.pdf. In general, the algorithm will generate a model circuit, classically compute its Heavy Output Group, then run a sampler to evaluate how often it generates Heavy results.\n",
    "\n",
    "TODO: Flesh out this notebook per https://github.com/quantumlib/ReCirq/issues/28.\n",
    "\n"
   ]
  },
  {
   "cell_type": "code",
   "execution_count": null,
   "metadata": {},
   "outputs": [],
   "source": [
    "# This cell sets up the parameters for the quantum volume algorithm.\n",
    "# Feel free to mess with these!\n",
    "from recirq.benchmarks.experiments.quantum_volume import QuantumVolumeTask, run_quantum_volume\n",
    "import datetime\n",
    "\n",
    "dataset_id = datetime.datetime.now().isoformat(timespec='minutes')\n",
    "dc_task = QuantumVolumeTask(\n",
    "    dataset_id=dataset_id,\n",
    "    device_name='Syc23-simulator',\n",
    "    n_shots=10_000,\n",
    "    n_circuits=1,\n",
    "    n_qubits=4,\n",
    "    depth=4,\n",
    "    readout_error_correction=True,\n",
    ")"
   ]
  },
  {
   "cell_type": "code",
   "execution_count": null,
   "metadata": {},
   "outputs": [],
   "source": [
    "# Actually run the task and collect the data for analysis.\n",
    "from recirq.benchmarks.experiments.quantum_volume import EXPERIMENT_NAME, DEFAULT_BASE_DIR, QuantumVolumeTask, run_quantum_volume\n",
    "\n",
    "run_quantum_volume(dc_task)\n"
   ]
  },
  {
   "cell_type": "code",
   "execution_count": null,
   "metadata": {},
   "outputs": [],
   "source": [
    "import recirq\n",
    "import numpy as np\n",
    "import pandas as pd\n",
    "\n",
    "records = []\n",
    "# Load all data, do some light processing\n",
    "for record in recirq.iterload_records(dataset_id=dataset_id, base_dir=DEFAULT_BASE_DIR):\n",
    "    # Expand task dataclass into columns\n",
    "    recirq.flatten_dataclass_into_record(record, 'task')\n",
    "\n",
    "    records.append(record)\n",
    "    \n",
    "df = pd.DataFrame(records)\n",
    "print(len(df))\n",
    "df.head()"
   ]
  }
 ],
 "metadata": {
  "kernelspec": {
   "display_name": "ReCirq",
   "language": "python",
   "name": "recirq"
  },
  "language_info": {
   "codemirror_mode": {
    "name": "ipython",
    "version": 3
   },
   "file_extension": ".py",
   "mimetype": "text/x-python",
   "name": "python",
   "nbconvert_exporter": "python",
   "pygments_lexer": "ipython3",
   "version": "3.7.7"
  }
 },
 "nbformat": 4,
 "nbformat_minor": 4
}
